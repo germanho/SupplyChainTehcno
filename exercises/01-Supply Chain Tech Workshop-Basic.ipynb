{
 "cells": [
  {
   "cell_type": "markdown",
   "metadata": {
    "cell_id": "00000-cd14a2b9-8a6f-4690-9457-5f5995338df6",
    "deepnote_cell_type": "markdown",
    "tags": []
   },
   "source": [
    "# 01-Basic: Pandas essentials\n",
    "For these exercises, we are going to be using the [Pandas](https://pandas.pydata.org/about/) Python package, so the first thing to do is to import Pandas. To do this, click on the code block below and press the 'Run' button to the left."
   ]
  },
  {
   "cell_type": "code",
   "execution_count": null,
   "metadata": {
    "cell_id": "00001-9463a7e8-ef49-4d86-a3fe-9348137f44b6",
    "deepnote_cell_type": "code",
    "deepnote_to_be_reexecuted": false,
    "execution_millis": 58657026,
    "execution_start": 1633510501425,
    "source_hash": "9b82ee11",
    "tags": []
   },
   "outputs": [],
   "source": [
    "import pandas as pd"
   ]
  },
  {
   "cell_type": "markdown",
   "metadata": {
    "cell_id": "00002-b05b3b8a-07f3-4c30-9165-fe7ba2820661",
    "deepnote_cell_type": "markdown",
    "tags": []
   },
   "source": [
    "## Creating data\n",
    "Pandas uses `DataFrame` to store and manipulate data. Run the code below to create a `DataFrame` using some simple test data. Here we have used the `head()` method to show (part of) the `DataFrame`."
   ]
  },
  {
   "cell_type": "code",
   "execution_count": null,
   "metadata": {
    "cell_id": "00003-59fe9947-e87c-4b18-930a-f0ea44c1def7",
    "deepnote_cell_type": "code",
    "deepnote_to_be_reexecuted": false,
    "execution_millis": 12,
    "execution_start": 1633510501468,
    "source_hash": "459b66d0",
    "tags": []
   },
   "outputs": [],
   "source": [
    "df_test = pd.DataFrame(data=[['1','2',3.0],[4,5,6],[0.07,88.0,999]],columns=['A','B','C'])\n",
    "df_test.head()"
   ]
  },
  {
   "cell_type": "markdown",
   "metadata": {
    "cell_id": "00004-f6c9f591-859c-49e2-b176-2983cbb93b2b",
    "deepnote_cell_type": "markdown",
    "tags": []
   },
   "source": [
    "### Exercise-01: Heads and tails\n",
    "Try running the above code with `head()` replaced by `head(1)`, `head(2)`, and `head(3)`, respectively. Similarly, try running the above code with `head()` replaced by `tail(1)`, `tail(2)`, and `tail(3)`, respectively. What do `head()` and `tail()` do?"
   ]
  },
  {
   "cell_type": "code",
   "execution_count": null,
   "metadata": {},
   "outputs": [],
   "source": [
    "#Try your code here\n",
    "\n"
   ]
  },
  {
   "cell_type": "markdown",
   "metadata": {
    "cell_id": "00005-34c55a85-e161-4660-8737-9feed320a8e6",
    "deepnote_cell_type": "markdown",
    "tags": []
   },
   "source": [
    "## Saving data\n",
    "Often it is useful to save data. For example, we can save the previous test data to a comma-separated values (`.csv`) file by running the following code. After you have run the code, identify *where* the file was saved (i.e. which folder?)."
   ]
  },
  {
   "cell_type": "code",
   "execution_count": null,
   "metadata": {
    "cell_id": "00006-67536e63-1e63-420e-a63f-e498cb14682c",
    "deepnote_cell_type": "code",
    "deepnote_to_be_reexecuted": false,
    "execution_millis": 65,
    "execution_start": 1633510501470,
    "source_hash": "93a6ce11",
    "tags": []
   },
   "outputs": [],
   "source": [
    "df_test.to_csv('./test.csv')"
   ]
  },
  {
   "cell_type": "markdown",
   "metadata": {
    "cell_id": "00007-0248b9cd-89b9-4327-b36a-612071ee792e",
    "deepnote_cell_type": "markdown",
    "tags": []
   },
   "source": [
    "### Exercise-02: Parents and siblings\n",
    "Sometimes we need to save/load data not in the current directory. Run the code below to save the same test data to two other locations. After you have run the code, identify *where* the files were saved."
   ]
  },
  {
   "cell_type": "code",
   "execution_count": null,
   "metadata": {
    "cell_id": "00008-b8617cee-ecb8-4827-9d45-cea4901e50d0",
    "deepnote_cell_type": "code",
    "deepnote_to_be_reexecuted": false,
    "execution_millis": 1,
    "execution_start": 1633510501536,
    "source_hash": "3b0213f1",
    "tags": []
   },
   "outputs": [],
   "source": [
    "df_test.to_csv('../data/test_sibling.csv')"
   ]
  },
  {
   "cell_type": "markdown",
   "metadata": {
    "cell_id": "00009-2785d7f1-f41a-43e9-9f4d-fe05b6ac259d",
    "deepnote_cell_type": "markdown",
    "tags": []
   },
   "source": [
    "Before we move on, let's clean up the mess you made! Run the code below to remove the test `.csv` files we just created."
   ]
  },
  {
   "cell_type": "code",
   "execution_count": null,
   "metadata": {
    "cell_id": "00010-3eaf395d-cd3e-4f5d-83ba-364159146ab4",
    "deepnote_cell_type": "code",
    "deepnote_to_be_reexecuted": false,
    "execution_millis": 805,
    "execution_start": 1633510501538,
    "source_hash": "95261650",
    "tags": []
   },
   "outputs": [],
   "source": [
    "!rm ../data/test_sibling.csv"
   ]
  },
  {
   "cell_type": "markdown",
   "metadata": {
    "cell_id": "00011-02636c07-9ec6-4270-8fee-193ea4139cab",
    "deepnote_cell_type": "markdown",
    "tags": []
   },
   "source": [
    "(Note that the above code uses `!` to run terminal commands from inside a notebook!) Cool, no?"
   ]
  },
  {
   "cell_type": "markdown",
   "metadata": {
    "cell_id": "00012-44adb987-bc9a-4e75-a1f7-f8f02306e2a9",
    "deepnote_cell_type": "markdown",
    "tags": []
   },
   "source": [
    "## Loading data\n",
    "Ok, let's get started with some *real* data. To work with real data, we first need to load it. If the data is in a `.csv` file then we can load the data simply using the Pandas `read_csv` function. Run the code below to load the `Cn_Manufacturer_Sample.csv` data into a Pandas `DataFrame`."
   ]
  },
  {
   "cell_type": "code",
   "execution_count": null,
   "metadata": {
    "cell_id": "00013-571dca19-a769-456c-b286-7d77ebcac8c6",
    "deepnote_cell_type": "code",
    "deepnote_to_be_reexecuted": false,
    "execution_millis": 414,
    "execution_start": 1633510502351,
    "source_hash": "f61d5314",
    "tags": []
   },
   "outputs": [],
   "source": [
    "import pandas as pd\n",
    "df_listings = pd.read_csv('../data/Cn_Manufacturer_Sample.csv', \n",
    "    usecols=['Symbol','Grant Invention Patent'])\n",
    "df_listings.head()"
   ]
  },
  {
   "cell_type": "markdown",
   "metadata": {
    "cell_id": "00014-662dddb1-afb5-4829-8008-87842e34e71b",
    "deepnote_cell_type": "markdown",
    "tags": []
   },
   "source": [
    "The data you just loaded relates to real company data I used in a research artile that examining the company's big data analytics capability on their operational efficiency, sampled from a dataset from CSMAR, annual reports, and company's annoucement. Note how the `usecols` argument was used to specify which columns of the data to load."
   ]
  },
  {
   "cell_type": "markdown",
   "metadata": {
    "cell_id": "00015-d3fb7183-c343-4156-be32-06cbf9158fdd",
    "deepnote_cell_type": "markdown",
    "tags": []
   },
   "source": [
    "### Exercise-03: Load the research data\n",
    "Now it's time to try to load some data yourself. Using the code above as a guide, load the `Cn_Manufacturer_Sample.csv` file into a data-frame named `df_variables` with columns `['BigDataCapability','Operational Efficiency_2016','OperationalCost','EstablishYear']`."
   ]
  },
  {
   "cell_type": "code",
   "execution_count": null,
   "metadata": {
    "cell_id": "00016-c5cb6122-2dc8-491d-968b-c5501ed13917",
    "deepnote_cell_type": "code",
    "deepnote_to_be_reexecuted": false,
    "execution_millis": 121,
    "execution_start": 1633510502761,
    "source_hash": "b56348a0",
    "tags": []
   },
   "outputs": [],
   "source": [
    "# (SOLUTION)\n"
   ]
  },
  {
   "cell_type": "markdown",
   "metadata": {
    "cell_id": "00017-536c8a81-df57-4de5-8736-9fceb39b74ee",
    "deepnote_cell_type": "markdown",
    "tags": []
   },
   "source": [
    "## Preparing data\n",
    "Often the data we load for analysis comes with values we cannot immediately work with, and we need to remove or format such (undefined) values to be able to do the analysis we want to do. \n",
    "\n",
    "For example, some of the companies in `df_variables` have undefined values in the `Operational Efficiency_2016`. We can see this by running the code below to show the rows in `df_variables` where the value in `Operational Efficiency_2016` is `nan` (i.e. [not a number](https://en.wikipedia.org/wiki/NaN)). The `nan` here is due to the missing data issues.\n",
    "\n",
    "**You must finish Exercise-03 Load research data where you define `df_variables`**."
   ]
  },
  {
   "cell_type": "code",
   "execution_count": null,
   "metadata": {
    "cell_id": "00018-b902f5e6-c807-4210-93c4-fbc21da15e2e",
    "deepnote_cell_type": "code",
    "deepnote_to_be_reexecuted": false,
    "execution_millis": 52,
    "execution_start": 1633510502878,
    "source_hash": "ee385073",
    "tags": []
   },
   "outputs": [],
   "source": [
    "df_variables[df_variables['Operational Efficiency_2016'].isna()].head()"
   ]
  },
  {
   "cell_type": "markdown",
   "metadata": {
    "cell_id": "00019-00cdca27-2f2a-4773-ab60-3227ad857a5d",
    "deepnote_cell_type": "markdown",
    "tags": []
   },
   "source": [
    "We can use similar logic to filter `df_variables` (or any other `DataFrame`) to exclude any rows where a particulr column has value `nan`. For example, run the code below to remove `nan` values from `df_variables`. Note the use of the `~` character to indicate we want to keep rows that are *not* `nan`."
   ]
  },
  {
   "cell_type": "code",
   "execution_count": null,
   "metadata": {
    "cell_id": "00020-f547c317-f2f7-4e97-9c01-dd168d9799b3",
    "deepnote_cell_type": "code",
    "deepnote_to_be_reexecuted": false,
    "execution_millis": 58655929,
    "execution_start": 1633510502940,
    "source_hash": "7cbe1922",
    "tags": []
   },
   "outputs": [],
   "source": [
    "df_variables = df_variables[~df_variables['Operational Efficiency_2016'].isna()]\n",
    "print(sum(df_variables['Operational Efficiency_2016'].isna())) # Explain this check!"
   ]
  },
  {
   "cell_type": "markdown",
   "metadata": {
    "cell_id": "00021-c3c84013-5f8a-4a13-ad79-30ff69f48132",
    "deepnote_cell_type": "markdown",
    "tags": []
   },
   "source": [
    "As well as undefined values, columns might also contain values in a format which is unsuitable for a particular type of analysis. For example, the values in the `EstablishYear` column of `df_variables` are [strings](https://www.w3schools.com/python/python_strings.asp) and would need to be formated it as `int` if we wanted to calculate, for example, getting the Firm Age. Run the code below to use the `apply` method to do such a thing."
   ]
  },
  {
   "cell_type": "code",
   "execution_count": null,
   "metadata": {
    "cell_id": "00022-d3276a55-3115-41e2-bce4-e9e0f988c1ed",
    "deepnote_cell_type": "code",
    "deepnote_to_be_reexecuted": false,
    "execution_millis": 57,
    "execution_start": 1633510502999,
    "source_hash": "1378444b",
    "tags": []
   },
   "outputs": [],
   "source": [
    "def Firm_Age(EstablishYear):\n",
    "    return(2015 - int(EstablishYear))\n",
    "\n",
    "df_variables['Firm_Age'] = df_variables['EstablishYear'].apply(Firm_Age)\n",
    "df_variables.head()"
   ]
  },
  {
   "cell_type": "markdown",
   "metadata": {
    "cell_id": "00019-e20c32e0-b5c3-4812-a984-c9b0bea765d1",
    "deepnote_cell_type": "markdown",
    "tags": []
   },
   "source": [
    "### Exercise-04: Format price data\n",
    "The `Operational Cost` column in `df_variables` also contains strings, with currency symbols (e.g.`$`) and commas (e.g. `1,000,000`), and we would need to format these string values to float values before we can use them in analysis. Using the above example as a guide, use the `format_price` function defined below to create a new column `Operational Cost_$` in `df_variables` which contains a float value version of the price of the listing in $.\n",
    "\n",
    "Hint: **modify** the command from last cell - `df_variables['Firm_Age'] = df_variables['EstablishYear'].apply(Firm_Age)`"
   ]
  },
  {
   "cell_type": "code",
   "execution_count": null,
   "metadata": {
    "cell_id": "00020-eb9fe918-0a82-4f1c-9183-0d6f25a07955",
    "deepnote_cell_type": "code",
    "deepnote_to_be_reexecuted": false,
    "execution_millis": 45,
    "execution_start": 1633510503047,
    "source_hash": "1c897ce6",
    "tags": []
   },
   "outputs": [],
   "source": [
    "def Operational_Cost_Format(OperationalCost):\n",
    "    return(float(OperationalCost.replace('$','').replace(',','')))\n",
    "\n",
    "# (SOLUTION)\n"
   ]
  },
  {
   "cell_type": "markdown",
   "metadata": {
    "cell_id": "00022-d5421d03-0726-4655-908c-cefc82b7dd34",
    "deepnote_cell_type": "markdown",
    "tags": []
   },
   "source": [
    "## Querying data\n",
    "Once we have loaded and formatted our data *then* the fun times begin! Pandas is great for *querying* `DataFrames` (i.e. filtering a `DataFrame` to create a new `DataFrame` which includes only the data we want!). For example, run the code below to use `df_variables` to create a new `DataFrame` names `df_transformed_level_capability` which contains companies that have the value of `BigDatCapability` larger than 3."
   ]
  },
  {
   "cell_type": "code",
   "execution_count": null,
   "metadata": {
    "cell_id": "00026-c0b9c5ce-e0a4-49b7-9a13-c6b75d6e5b28",
    "deepnote_cell_type": "code",
    "deepnote_to_be_reexecuted": false,
    "execution_millis": 53,
    "execution_start": 1633510503088,
    "source_hash": "afe22a14",
    "tags": []
   },
   "outputs": [],
   "source": [
    "df_transformed_level_capability = df_variables[df_variables['BigDataCapability']>3]\n",
    "df_transformed_level_capability.head()"
   ]
  },
  {
   "cell_type": "markdown",
   "metadata": {
    "cell_id": "00023-e9303491-c3d4-4fd3-bb48-ee16497d9156",
    "deepnote_cell_type": "markdown",
    "tags": []
   },
   "source": [
    "### Exercise-05: Identify firms with high innovation\n",
    "Using the above code as a guide, use `df_listings` to create a new `DataFrame` named `df_listings_high_innovate` which contains company which the number of grant invention patent is more than 30."
   ]
  },
  {
   "cell_type": "code",
   "execution_count": null,
   "metadata": {
    "cell_id": "00024-86121000-3e44-4f2d-b36d-b3829e4eeac3",
    "deepnote_cell_type": "code",
    "deepnote_to_be_reexecuted": false,
    "execution_millis": 52,
    "execution_start": 1633510503133,
    "source_hash": "fd218a0c",
    "tags": []
   },
   "outputs": [],
   "source": [
    "# (SOLUTION)\n"
   ]
  },
  {
   "cell_type": "markdown",
   "metadata": {
    "cell_id": "00029-f279bf61-891f-4f0a-8593-afbe6921d5f7",
    "deepnote_cell_type": "markdown",
    "tags": []
   },
   "source": [
    "## Inspect the code\n",
    "Practice experimenting with this code sample to understand how it works. Feel free to modify the parameters and observe the results. If you encounter any errors, you can refresh the browser. \n"
   ]
  }
 ],
 "metadata": {
  "deepnote": {
   "is_reactive": false
  },
  "deepnote_execution_queue": [],
  "deepnote_notebook_id": "a3448935-844e-4a3d-8582-74593158806f",
  "kernelspec": {
   "display_name": "Python 3 (ipykernel)",
   "language": "python",
   "name": "python3"
  },
  "language_info": {
   "codemirror_mode": {
    "name": "ipython",
    "version": 3
   },
   "file_extension": ".py",
   "mimetype": "text/x-python",
   "name": "python",
   "nbconvert_exporter": "python",
   "pygments_lexer": "ipython3",
   "version": "3.10.8"
  }
 },
 "nbformat": 4,
 "nbformat_minor": 4
}
